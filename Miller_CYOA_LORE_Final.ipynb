{
 "cells": [
  {
   "cell_type": "code",
   "execution_count": 1,
   "id": "74eb9807",
   "metadata": {},
   "outputs": [
    {
     "name": "stdout",
     "output_type": "stream",
     "text": [
      "\\\\\\\\[][]\\\\\\\\[][]\\\\\\\\[][][][]\\\\\\\\[][][][]\n",
      "\\\\\\\\[][]\\\\\\[]\\\\[]\\\\\\[]\\\\[]\\\\\\\\[]\\\\\\\n",
      "\\\\\\\\[][]\\\\\\[]\\\\[]\\\\\\[][][]\\\\\\\\\\[][][][]\n",
      "\\\\\\\\[][]\\\\\\[]\\\\[]\\\\\\[]\\\\[]\\\\\\\\[]\\\\\\\n",
      "\\\\\\\\[][][][]\\\\[][]\\\\\\\\[]\\\\[]\\\\\\\\[][][][]\n",
      "LORE, 9th Hour Films Games, (Copyright 2021)\n",
      "By Jason Miller for INFO 1201\n"
     ]
    }
   ],
   "source": [
    "#JASON MILLER\n",
    "#Create your own adventure\n",
    "\n",
    "#I want to experiment with the classes in Python\n",
    "#Creating a room system, where the user inputs where they want to go\n",
    "#there will be ~8 rooms\n",
    "#------------------~MAP~----------------#\n",
    "#                    [Exit]\n",
    "#   [Bathroom][Tunnels] [Prison][The Dark Alley]\n",
    "#            ^                  ^\n",
    "#            |                  |\n",
    "#      [Conservatory]   [Wine Cellar]\n",
    "#               [Parlour]\n",
    "#[Exit] [Library][Lobby][Pantry] [Exit]\n",
    "#   [Secret Room]-/[Music Room]\n",
    "#                 ^/[Secret Room]\n",
    "#                 [Exit]\n",
    "\n",
    "class Room:\n",
    "      def __init__(self, input_direction, neighbor, room_text):\n",
    "            self.closed = False\n",
    "            self.input_direction = input_direction\n",
    "            self.neighbor = neighbor\n",
    "            self.room_text = room_text\n",
    "class Player:\n",
    "     def __init__(self, current_room):\n",
    "            self.current_room = current_room\n",
    "            self.score = 0\n",
    "            self.moves = 0\n",
    "class Item:\n",
    "    def __init__(self, item_name, room_req, store_room, use_action, take_action):\n",
    "        self.item_name = item_name\n",
    "        self.room_req = room_req\n",
    "        self.store_room = store_room\n",
    "        self.use_action = use_action\n",
    "        self.take_action = take_action\n",
    "        self.obtained = False\n",
    "#Grabbed this function from Geeks for Geeks to check if the user takes or uses an item.\n",
    "def isWordPresent(sentence, word):\n",
    " \n",
    "    # To convert the word in uppercase\n",
    "    word = word.upper()\n",
    " \n",
    "    # To convert the complete\n",
    "    # sentence in uppercase\n",
    "    sentence = sentence.upper()\n",
    " \n",
    "    # splitting the sentence to list\n",
    "    lis = sentence.split()\n",
    "    # checking if word is present\n",
    "    if(lis.count(word) > 0):\n",
    "        return True\n",
    "    else:\n",
    "        return False\n",
    "#-------------------------------------------#--------------------------------------------#\n",
    "\n",
    "#-------------------------------------------#--------------------------------------------#\n",
    "#This check for item function checks if there is an item in the room (where it is stored or where it can be used), and returns true if true\n",
    "def check_for_item():\n",
    "    for item in range(len(items)):\n",
    "        if player.current_room == items[item].store_room  and items[item].obtained == False:\n",
    "             return True\n",
    "        if player.current_room == items[item].room_req and items[item].obtained == True:\n",
    "            return True\n",
    "    return False\n",
    "#This function just returns the item, could be fixed but in the absense of time I had to add this.\n",
    "def declare_item():\n",
    "    for item in range(len(items)):\n",
    "        if player.current_room == items[item].store_room or player.current_room == items[item].room_req:\n",
    "            return items[item]\n",
    "#This function handles when a user takes an item or uses an item. Right now it is very simple. If the user uses an item in the required room, it leads to treasure.\n",
    "def item_handler(user_input):\n",
    "    if check_for_item():\n",
    "        item = declare_item()\n",
    "        if isWordPresent(user_input, item.item_name):\n",
    "                \n",
    "            if isWordPresent(user_input, \"take\"):\n",
    "                print(item.take_action)\n",
    "                item.obtained = True\n",
    "                return True\n",
    "            if isWordPresent(user_input, \"use\"):\n",
    "                if player.current_room == item.room_req and item.obtained == True:\n",
    "                    \n",
    "                    print(item.use_action)\n",
    "                    print(\"A secret room has opened! You find many treasures.\")\n",
    "                    player.score += 50\n",
    "                    item.room_req = Exit\n",
    "                    return True\n",
    "            else:\n",
    "                return False\n",
    "        return False\n",
    "    return False\n",
    "#-------------------------------------------#--------------------------------------------#\n",
    "#This function checks for the end, and continues/breaks the game loop.\n",
    "def check_end():\n",
    "    for i in range(len(end_rooms)):\n",
    "        if player.current_room == end_rooms[i]:\n",
    "            restart = input(\"Would you like to retry? y/n?\")\n",
    "            if restart == \"y\":\n",
    "                player.current_room = Main_Room\n",
    "                player.moves = 0\n",
    "                print(\"Welcome to LORE.\\n You have awakened in a dark mansion that is seriously haunted. The room of which you have awakened in (the lobby), presents four paths to consider.\")\n",
    "                print(player.current_room.room_text)\n",
    "                return False\n",
    "            if restart == \"n\":\n",
    "                \n",
    "                return True\n",
    "    return False\n",
    "#The player can starts in the main room and can hold objects\n",
    "Main_Room = Room([\"go to parlour\", \"go to library\", \"go to pantry\", \"go to music room\"], [], \"You find yourself inside the lobby... There are dead flowers that haven't been watered in months. \\n Behind you, is the Music Room. To your left, is the Library. To your right, the Pantry. In front of you, is the door leading to the Parlour.\")\n",
    "\n",
    "#Init Player...\n",
    "player = Player(Main_Room)\n",
    "#Building Rooms...\n",
    "#----------------------------#--------------------------------------------#\n",
    "#Due to Pythons reference to objects, we need to call these first.\n",
    "Bathroom = Room([\"\"], [], \"You find a weeping man, and he has asked you to join him. You are stuck here forever in eternity.\")\n",
    "Tunnels = Room([\"\"], [], \"This is surely your escape, and you have managed to leave the mansion without a scratch.\")\n",
    "Prison = Room([\"\"], [], \"The door locks behind you, and you hear the wailing screams of the past. The rest of your life (20 years), will be endured here.\")\n",
    "Dark_Alley = Room([\"\"], [], \"You have left the mansion, but have also trodded into unknown territory. The Dark Alley is full of your darkest nightmares.\")\n",
    "\n",
    "#----------------------------#--------------------------------------------#\n",
    "#----------------------------#--------------------------------------------#\n",
    "Exit = Room( \"\", [], \"You have left the house, and are unable to go back inside.\")\n",
    "Parlour = Room([\"go to lobby\", \"go to conservatory\", \"go to wine cellar\"], [], \"You are in the Parlour. Everything is covered in spiderwebs, but you can faintly see a music [recorder] poking through the webs. \\n Behind you, is the lobby and the two doors before you lead to the conservatory or the wine cellar.\")\n",
    "Music_Room = Room([\"go to lobby\", \"leave\"], [Main_Room, Exit], \"You are in the Music Room. There is a piano floured with dust and some sheet music plastered on the wall. \\n Behind you, is the lobby, but there is a shuttered door leading to the outside.\")\n",
    "Library = Room([\"go to lobby\", \"leave\"], [Main_Room, Exit], \"You are in the Library. It is rather hard to see in here, but there is a bountiful amount of books from the Romantic period. \\n Behind you, is the lobby, yet there is cracked window leading to outside.\")\n",
    "Pantry = Room([\"go to lobby\", \"leave\"], [Main_Room, Exit], \"You are in the Pantry. The only thing that you see is plentiful amounts of food... and a [candle]. \\n Behind you is the lobby, yet there seems to be a vent that leads to the outside of the building.\")\n",
    "Conservatory = Room([\"go to parlour\", \"go to bathroom\", \"go to tunnels\" ], [Parlour, Bathroom, Tunnels], \"You are in the Conservatory. There are plenty of plants and a beautiful dream-like aroma. \\n Behind you, is the parlour, and the two doors before you lead to a bathroom and some tunnels.\")\n",
    "Wine_Cellar = Room([\"go to parlour\", \"go to prison\", \"go to dark alley\"], [Parlour, Prison, Dark_Alley], \"You are in the Wine Cellar. There is wine dating back to the 15th century, and everything is covered in dust. \\n Behind you is the parlour, but there are two doors: one that leads to a Prison and another that leads to a dark alley.\")\n",
    "end_rooms = [Bathroom, Tunnels, Prison, Dark_Alley, Exit]\n",
    "Main_Room.neighbor = [Parlour, Library, Pantry, Music_Room]\n",
    "Parlour.neighbor = [Main_Room, Conservatory, Wine_Cellar]\n",
    "#----------------------------#--------------------------------------------#\n",
    "#Building items...\n",
    "Candle = Item(\"candle\", Library, Pantry, \"Candle is succesful.\", \"You have taken the candle.\")\n",
    "Recorder = Item(\"recorder\", Music_Room, Parlour, \"Recorder is succesful.\", \"You have taken the recorder\")\n",
    "items = [Candle, Recorder]\n",
    "print(\"\\\\\\\\\\\\\\[][]\\\\\\\\\\\\\\\\[][]\\\\\\\\\\\\\\\\[][][][]\\\\\\\\\\\\\\[][][][]\")\n",
    "print(\"\\\\\\\\\\\\\\[][]\\\\\\\\\\\\[]\\\\\\\\[]\\\\\\\\\\\\[]\\\\\\\\[]\\\\\\\\\\\\\\[]\\\\\\\\\\\\\")\n",
    "print(\"\\\\\\\\\\\\\\[][]\\\\\\\\\\\\[]\\\\\\\\[]\\\\\\\\\\\\[][][]\\\\\\\\\\\\\\\\\\[][][][]\")\n",
    "print(\"\\\\\\\\\\\\\\[][]\\\\\\\\\\\\[]\\\\\\\\[]\\\\\\\\\\\\[]\\\\\\\\[]\\\\\\\\\\\\\\[]\\\\\\\\\\\\\")\n",
    "print(\"\\\\\\\\\\\\\\[][][][]\\\\\\\\[][]\\\\\\\\\\\\\\\\[]\\\\\\\\[]\\\\\\\\\\\\\\[][][][]\")\n",
    "print(\"LORE, 9th Hour Films Games, (Copyright 2021)\")\n",
    "print(\"By Jason Miller for INFO 1201\")\n",
    "    "
   ]
  },
  {
   "cell_type": "code",
   "execution_count": 2,
   "id": "5dd9cb1f",
   "metadata": {},
   "outputs": [
    {
     "name": "stdout",
     "output_type": "stream",
     "text": [
      "\n",
      "\n",
      "\n",
      "Welcome to LORE.\n",
      " You have awakened in a dark mansion that is seriously haunted. The room of which you have awakened in (the lobby), presents four paths to consider.\n",
      "#--------you can ask for help with--------#\n",
      "#----------------need help-----------------#\n",
      "You find yourself inside the lobby... There are dead flowers that haven't been watered in months. \n",
      " Behind you, is the Music Room. To your left, is the Library. To your right, the Pantry. In front of you, is the door leading to the Parlour.\n",
      "Score:  0\n",
      "Moves:  0\n"
     ]
    },
    {
     "name": "stdin",
     "output_type": "stream",
     "text": [
      "Answer:  need help\n"
     ]
    },
    {
     "name": "stdout",
     "output_type": "stream",
     "text": [
      "#-------------#-----------#\n",
      "You can.....\n",
      "go to parlour\n",
      "go to library\n",
      "go to pantry\n",
      "go to music room\n",
      "\n",
      "\n",
      "You can also.... \n",
      " take [ item] \n",
      " OR \n",
      " use [item]\n",
      " (IF ITEM PRESENT) \n",
      " #-------------#-----------#\n",
      "You find yourself inside the lobby... There are dead flowers that haven't been watered in months. \n",
      " Behind you, is the Music Room. To your left, is the Library. To your right, the Pantry. In front of you, is the door leading to the Parlour.\n",
      "Score:  0\n",
      "Moves:  1\n"
     ]
    },
    {
     "name": "stdin",
     "output_type": "stream",
     "text": [
      "Answer:  go to parlour\n"
     ]
    },
    {
     "name": "stdout",
     "output_type": "stream",
     "text": [
      "You are in the Parlour. Everything is covered in spiderwebs, but you can faintly see a music [recorder] poking through the webs. \n",
      " Behind you, is the lobby and the two doors before you lead to the conservatory or the wine cellar.\n",
      "***There is something in here that interests you.***\n",
      "Score:  0\n",
      "Moves:  2\n"
     ]
    },
    {
     "name": "stdin",
     "output_type": "stream",
     "text": [
      "Answer:  take recorder\n"
     ]
    },
    {
     "name": "stdout",
     "output_type": "stream",
     "text": [
      "You have taken the recorder\n",
      "You are in the Parlour. Everything is covered in spiderwebs, but you can faintly see a music [recorder] poking through the webs. \n",
      " Behind you, is the lobby and the two doors before you lead to the conservatory or the wine cellar.\n",
      "Score:  0\n",
      "Moves:  3\n"
     ]
    },
    {
     "name": "stdin",
     "output_type": "stream",
     "text": [
      "Answer:  go conservatory\n"
     ]
    },
    {
     "name": "stdout",
     "output_type": "stream",
     "text": [
      "\n",
      "I can't understand what you are trying to do.\n",
      "\n",
      "****you can ask for help with******\n",
      "************need help*************\n",
      "You are in the Parlour. Everything is covered in spiderwebs, but you can faintly see a music [recorder] poking through the webs. \n",
      " Behind you, is the lobby and the two doors before you lead to the conservatory or the wine cellar.\n",
      "Score:  0\n",
      "Moves:  4\n"
     ]
    },
    {
     "name": "stdin",
     "output_type": "stream",
     "text": [
      "Answer:  go to conservatory\n"
     ]
    },
    {
     "name": "stdout",
     "output_type": "stream",
     "text": [
      "You are in the Conservatory. There are plenty of plants and a beautiful dream-like aroma. \n",
      " Behind you, is the parlour, and the two doors before you lead to a bathroom and some tunnels.\n",
      "Score:  0\n",
      "Moves:  5\n"
     ]
    },
    {
     "name": "stdin",
     "output_type": "stream",
     "text": [
      "Answer:  go tunnels\n"
     ]
    },
    {
     "name": "stdout",
     "output_type": "stream",
     "text": [
      "\n",
      "I can't understand what you are trying to do.\n",
      "\n",
      "****you can ask for help with******\n",
      "************need help*************\n",
      "You are in the Conservatory. There are plenty of plants and a beautiful dream-like aroma. \n",
      " Behind you, is the parlour, and the two doors before you lead to a bathroom and some tunnels.\n",
      "Score:  0\n",
      "Moves:  6\n"
     ]
    },
    {
     "name": "stdin",
     "output_type": "stream",
     "text": [
      "Answer:  go to tunnels\n"
     ]
    },
    {
     "name": "stdout",
     "output_type": "stream",
     "text": [
      "This is surely your escape, and you have managed to leave the mansion without a scratch.\n"
     ]
    },
    {
     "name": "stdin",
     "output_type": "stream",
     "text": [
      "Would you like to retry? y/n? n\n"
     ]
    }
   ],
   "source": [
    "#Hopefully this code is relatively simple to read. Messed around with the while loops and for loops here. MAIN GAME LOOP. I am proud that it is rather short.\n",
    "print(\"\\n\\n\\nWelcome to LORE.\\n You have awakened in a dark mansion that is seriously haunted. The room of which you have awakened in (the lobby), presents four paths to consider.\")\n",
    "print(\"#--------you can ask for help with--------#\")\n",
    "print(\"#----------------need help-----------------#\")\n",
    "print(player.current_room.room_text)\n",
    "while(True):\n",
    "    if check_for_item():\n",
    "        print(\"***There is something in here that interests you.***\")\n",
    "    print(\"Score: \", str(player.score))\n",
    "    print(\"Moves: \", str(player.moves))\n",
    "    choice = input(\"Answer: \")\n",
    "\n",
    "    index = 0\n",
    "    player.moves += 1\n",
    "    incorrect = True\n",
    "    while index < len(player.current_room.neighbor):\n",
    "        if choice == player.current_room.input_direction[index] and player.current_room.closed == False:\n",
    "            player.current_room = player.current_room.neighbor[index]\n",
    "\n",
    "            incorrect = False\n",
    "        index += 1\n",
    "    if choice == \"need help\":\n",
    "        print(\"#-------------#-----------#\\nYou can.....\")\n",
    "        incorrect = False\n",
    "        for i in range(len(player.current_room.input_direction)):\n",
    "            print(str(player.current_room.input_direction[i]))\n",
    "        print(\"\\n\\nYou can also.... \\n take [ item] \\n OR \\n use [item]\\n (IF ITEM PRESENT) \\n #-------------#-----------#\")\n",
    "    if item_handler(choice):\n",
    "        incorrect = False\n",
    "    if incorrect == True:\n",
    "        print(\"\\nI can't understand what you are trying to do.\\n\")\n",
    "        print(\"****you can ask for help with******\")\n",
    "        print(\"************need help*************\")\n",
    "    print(player.current_room.room_text)\n",
    "    if check_end():\n",
    "        break\n",
    "    \n",
    "                       \n",
    "        "
   ]
  },
  {
   "cell_type": "code",
   "execution_count": null,
   "id": "06f9ce08",
   "metadata": {},
   "outputs": [],
   "source": []
  }
 ],
 "metadata": {
  "kernelspec": {
   "display_name": "Python 3",
   "language": "python",
   "name": "python3"
  },
  "language_info": {
   "codemirror_mode": {
    "name": "ipython",
    "version": 3
   },
   "file_extension": ".py",
   "mimetype": "text/x-python",
   "name": "python",
   "nbconvert_exporter": "python",
   "pygments_lexer": "ipython3",
   "version": "3.9.5"
  }
 },
 "nbformat": 4,
 "nbformat_minor": 5
}
